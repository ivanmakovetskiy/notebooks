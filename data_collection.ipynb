{
 "cells": [
  {
   "cell_type": "code",
   "execution_count": 1,
   "id": "60e35df4",
   "metadata": {},
   "outputs": [],
   "source": [
    "import requests\n",
    "import json\n",
    "import numpy as np\n",
    "import pickle\n",
    "import pandas as pd\n",
    "import os"
   ]
  },
  {
   "cell_type": "code",
   "execution_count": 5,
   "id": "66650b9c",
   "metadata": {},
   "outputs": [],
   "source": [
    "def Collect_ids():\n",
    "    import itertools\n",
    "    \n",
    "    ids = set()\n",
    "    \n",
    "    res_regions = requests.get('https://api.hh.ru/areas').json()[0]['areas']\n",
    "    reg_id = set()\n",
    "    \n",
    "    for region in res_regions:\n",
    "        reg_id.add(region['id'])\n",
    "    \n",
    "    experiences = set(['noExperience', 'between1And3', 'between3And6', 'moreThan6'])\n",
    "    \n",
    "    l = list(itertools.product(reg_id, experiences))\n",
    "    for (reg, exp) in l:\n",
    "        page = 0\n",
    "        while True:\n",
    "            response = requests.get(fr'https://api.hh.ru/vacancies?area={reg}&experience={exp}&' + \n",
    "                   'employment=full&'+\n",
    "                   'schedule=fullDay&'+\n",
    "                   'specialization=1&'+\n",
    "                   'only_with_salary=true&'+\n",
    "                   'per_page=100&'+\n",
    "                   fr'page={page}')\n",
    "            \n",
    "            if response.status_code != 200:\n",
    "                break\n",
    "\n",
    "            json_ob = response.json()            \n",
    "            if not json_ob['items']:\n",
    "                break\n",
    "                \n",
    "            for job in json_ob['items']:\n",
    "                ids.add(job['id'])\n",
    "            \n",
    "            page += 1\n",
    "                \n",
    "    return ids"
   ]
  },
  {
   "cell_type": "code",
   "execution_count": 6,
   "id": "cafbe4d4",
   "metadata": {},
   "outputs": [],
   "source": [
    "res = Collect_ids()"
   ]
  },
  {
   "cell_type": "code",
   "execution_count": 8,
   "id": "5e4f2bd3",
   "metadata": {},
   "outputs": [
    {
     "data": {
      "text/plain": [
       "28651"
      ]
     },
     "execution_count": 8,
     "metadata": {},
     "output_type": "execute_result"
    }
   ],
   "source": [
    "len(res)"
   ]
  },
  {
   "cell_type": "code",
   "execution_count": 10,
   "id": "999322eb",
   "metadata": {},
   "outputs": [],
   "source": [
    "with open('ids_all.pickle', 'wb') as f:\n",
    "    pickle.dump(res, f)"
   ]
  },
  {
   "cell_type": "code",
   "execution_count": 64,
   "id": "3540d9f8",
   "metadata": {},
   "outputs": [],
   "source": [
    "def Collect_ids(text):\n",
    "    import itertools\n",
    "    \n",
    "    ids = set()\n",
    "    \n",
    "    res_regions = requests.get('https://api.hh.ru/areas').json()[0]['areas']\n",
    "    reg_id = set()\n",
    "    \n",
    "    for region in res_regions:\n",
    "        reg_id.add(region['id'])\n",
    "    \n",
    "    experiences = set(['noExperience', 'between1And3', 'between3And6', 'moreThan6'])\n",
    "    \n",
    "    l = list(itertools.product(reg_id, experiences))\n",
    "    for (reg, exp) in l:\n",
    "        page = 0\n",
    "        while True:\n",
    "            response = requests.get(fr'https://api.hh.ru/vacancies?text=\"{text}\"&search_field=name&area={reg}&experience={exp}&' + \n",
    "                   'employment=full&'+\n",
    "                   'schedule=fullDay&'+\n",
    "                   'specialization=1&'+\n",
    "                   'only_with_salary=true&'+\n",
    "                   'per_page=100&'+\n",
    "                   fr'page={page}')\n",
    "            \n",
    "            if response.status_code != 200:\n",
    "                break\n",
    "\n",
    "            json_ob = response.json()            \n",
    "            if not json_ob['items']:\n",
    "                break\n",
    "                \n",
    "            for job in json_ob['items']:\n",
    "                ids.add(job['id'])\n",
    "            \n",
    "            page += 1\n",
    "                \n",
    "    return ids"
   ]
  },
  {
   "cell_type": "code",
   "execution_count": 32,
   "id": "c55e8a0d",
   "metadata": {},
   "outputs": [
    {
     "ename": "KeyboardInterrupt",
     "evalue": "",
     "output_type": "error",
     "traceback": [
      "\u001b[1;31m---------------------------------------------------------------------------\u001b[0m",
      "\u001b[1;31mKeyboardInterrupt\u001b[0m                         Traceback (most recent call last)",
      "Input \u001b[1;32mIn [32]\u001b[0m, in \u001b[0;36m<cell line: 1>\u001b[1;34m()\u001b[0m\n\u001b[1;32m----> 1\u001b[0m res_data \u001b[38;5;241m=\u001b[39m \u001b[43mCollect_ids\u001b[49m\u001b[43m(\u001b[49m\u001b[38;5;124;43m'\u001b[39;49m\u001b[38;5;124;43mData\u001b[39;49m\u001b[38;5;124;43m'\u001b[39;49m\u001b[43m)\u001b[49m\n",
      "Input \u001b[1;32mIn [31]\u001b[0m, in \u001b[0;36mCollect_ids\u001b[1;34m(text)\u001b[0m\n\u001b[0;32m     16\u001b[0m         page \u001b[38;5;241m=\u001b[39m \u001b[38;5;241m0\u001b[39m\n\u001b[0;32m     17\u001b[0m         \u001b[38;5;28;01mwhile\u001b[39;00m \u001b[38;5;28;01mTrue\u001b[39;00m:\n\u001b[1;32m---> 18\u001b[0m             response \u001b[38;5;241m=\u001b[39m \u001b[43mrequests\u001b[49m\u001b[38;5;241;43m.\u001b[39;49m\u001b[43mget\u001b[49m\u001b[43m(\u001b[49m\u001b[38;5;124;43mfr\u001b[39;49m\u001b[38;5;124;43m'\u001b[39;49m\u001b[38;5;124;43mhttps://api.hh.ru/vacancies?text=\u001b[39;49m\u001b[38;5;124;43m\"\u001b[39;49m\u001b[38;5;132;43;01m{\u001b[39;49;00m\u001b[43mtext\u001b[49m\u001b[38;5;132;43;01m}\u001b[39;49;00m\u001b[38;5;124;43m\"\u001b[39;49m\u001b[38;5;124;43m&search_field=name&area=\u001b[39;49m\u001b[38;5;132;43;01m{\u001b[39;49;00m\u001b[43mreg\u001b[49m\u001b[38;5;132;43;01m}\u001b[39;49;00m\u001b[38;5;124;43m&experience=\u001b[39;49m\u001b[38;5;132;43;01m{\u001b[39;49;00m\u001b[43mexp\u001b[49m\u001b[38;5;132;43;01m}\u001b[39;49;00m\u001b[38;5;124;43m&\u001b[39;49m\u001b[38;5;124;43m'\u001b[39;49m\u001b[43m \u001b[49m\u001b[38;5;241;43m+\u001b[39;49m\u001b[43m \u001b[49m\n\u001b[0;32m     19\u001b[0m \u001b[43m                   \u001b[49m\u001b[38;5;124;43m'\u001b[39;49m\u001b[38;5;124;43memployment=full&\u001b[39;49m\u001b[38;5;124;43m'\u001b[39;49m\u001b[38;5;241;43m+\u001b[39;49m\n\u001b[0;32m     20\u001b[0m \u001b[43m                   \u001b[49m\u001b[38;5;124;43m'\u001b[39;49m\u001b[38;5;124;43mschedule=fullDay&\u001b[39;49m\u001b[38;5;124;43m'\u001b[39;49m\u001b[38;5;241;43m+\u001b[39;49m\n\u001b[0;32m     21\u001b[0m \u001b[38;5;66;43;03m#                    'specialization=1&'+\u001b[39;49;00m\n\u001b[0;32m     22\u001b[0m \u001b[43m                   \u001b[49m\u001b[38;5;124;43m'\u001b[39;49m\u001b[38;5;124;43monly_with_salary=true&\u001b[39;49m\u001b[38;5;124;43m'\u001b[39;49m\u001b[38;5;241;43m+\u001b[39;49m\n\u001b[0;32m     23\u001b[0m \u001b[43m                   \u001b[49m\u001b[38;5;124;43m'\u001b[39;49m\u001b[38;5;124;43mper_page=100&\u001b[39;49m\u001b[38;5;124;43m'\u001b[39;49m\u001b[38;5;241;43m+\u001b[39;49m\n\u001b[0;32m     24\u001b[0m \u001b[43m                   \u001b[49m\u001b[38;5;124;43mfr\u001b[39;49m\u001b[38;5;124;43m'\u001b[39;49m\u001b[38;5;124;43mpage=\u001b[39;49m\u001b[38;5;132;43;01m{\u001b[39;49;00m\u001b[43mpage\u001b[49m\u001b[38;5;132;43;01m}\u001b[39;49;00m\u001b[38;5;124;43m'\u001b[39;49m\u001b[43m)\u001b[49m\n\u001b[0;32m     26\u001b[0m             \u001b[38;5;28;01mif\u001b[39;00m response\u001b[38;5;241m.\u001b[39mstatus_code \u001b[38;5;241m!=\u001b[39m \u001b[38;5;241m200\u001b[39m:\n\u001b[0;32m     27\u001b[0m                 \u001b[38;5;28;01mbreak\u001b[39;00m\n",
      "File \u001b[1;32m~\\Anaconda3\\lib\\site-packages\\requests\\api.py:75\u001b[0m, in \u001b[0;36mget\u001b[1;34m(url, params, **kwargs)\u001b[0m\n\u001b[0;32m     64\u001b[0m \u001b[38;5;28;01mdef\u001b[39;00m \u001b[38;5;21mget\u001b[39m(url, params\u001b[38;5;241m=\u001b[39m\u001b[38;5;28;01mNone\u001b[39;00m, \u001b[38;5;241m*\u001b[39m\u001b[38;5;241m*\u001b[39mkwargs):\n\u001b[0;32m     65\u001b[0m     \u001b[38;5;124mr\u001b[39m\u001b[38;5;124;03m\"\"\"Sends a GET request.\u001b[39;00m\n\u001b[0;32m     66\u001b[0m \n\u001b[0;32m     67\u001b[0m \u001b[38;5;124;03m    :param url: URL for the new :class:`Request` object.\u001b[39;00m\n\u001b[1;32m   (...)\u001b[0m\n\u001b[0;32m     72\u001b[0m \u001b[38;5;124;03m    :rtype: requests.Response\u001b[39;00m\n\u001b[0;32m     73\u001b[0m \u001b[38;5;124;03m    \"\"\"\u001b[39;00m\n\u001b[1;32m---> 75\u001b[0m     \u001b[38;5;28;01mreturn\u001b[39;00m request(\u001b[38;5;124m'\u001b[39m\u001b[38;5;124mget\u001b[39m\u001b[38;5;124m'\u001b[39m, url, params\u001b[38;5;241m=\u001b[39mparams, \u001b[38;5;241m*\u001b[39m\u001b[38;5;241m*\u001b[39mkwargs)\n",
      "File \u001b[1;32m~\\Anaconda3\\lib\\site-packages\\requests\\api.py:61\u001b[0m, in \u001b[0;36mrequest\u001b[1;34m(method, url, **kwargs)\u001b[0m\n\u001b[0;32m     57\u001b[0m \u001b[38;5;66;03m# By using the 'with' statement we are sure the session is closed, thus we\u001b[39;00m\n\u001b[0;32m     58\u001b[0m \u001b[38;5;66;03m# avoid leaving sockets open which can trigger a ResourceWarning in some\u001b[39;00m\n\u001b[0;32m     59\u001b[0m \u001b[38;5;66;03m# cases, and look like a memory leak in others.\u001b[39;00m\n\u001b[0;32m     60\u001b[0m \u001b[38;5;28;01mwith\u001b[39;00m sessions\u001b[38;5;241m.\u001b[39mSession() \u001b[38;5;28;01mas\u001b[39;00m session:\n\u001b[1;32m---> 61\u001b[0m     \u001b[38;5;28;01mreturn\u001b[39;00m session\u001b[38;5;241m.\u001b[39mrequest(method\u001b[38;5;241m=\u001b[39mmethod, url\u001b[38;5;241m=\u001b[39murl, \u001b[38;5;241m*\u001b[39m\u001b[38;5;241m*\u001b[39mkwargs)\n",
      "File \u001b[1;32m~\\Anaconda3\\lib\\site-packages\\requests\\sessions.py:529\u001b[0m, in \u001b[0;36mSession.request\u001b[1;34m(self, method, url, params, data, headers, cookies, files, auth, timeout, allow_redirects, proxies, hooks, stream, verify, cert, json)\u001b[0m\n\u001b[0;32m    524\u001b[0m send_kwargs \u001b[38;5;241m=\u001b[39m {\n\u001b[0;32m    525\u001b[0m     \u001b[38;5;124m'\u001b[39m\u001b[38;5;124mtimeout\u001b[39m\u001b[38;5;124m'\u001b[39m: timeout,\n\u001b[0;32m    526\u001b[0m     \u001b[38;5;124m'\u001b[39m\u001b[38;5;124mallow_redirects\u001b[39m\u001b[38;5;124m'\u001b[39m: allow_redirects,\n\u001b[0;32m    527\u001b[0m }\n\u001b[0;32m    528\u001b[0m send_kwargs\u001b[38;5;241m.\u001b[39mupdate(settings)\n\u001b[1;32m--> 529\u001b[0m resp \u001b[38;5;241m=\u001b[39m \u001b[38;5;28mself\u001b[39m\u001b[38;5;241m.\u001b[39msend(prep, \u001b[38;5;241m*\u001b[39m\u001b[38;5;241m*\u001b[39msend_kwargs)\n\u001b[0;32m    531\u001b[0m \u001b[38;5;28;01mreturn\u001b[39;00m resp\n",
      "File \u001b[1;32m~\\Anaconda3\\lib\\site-packages\\requests\\sessions.py:645\u001b[0m, in \u001b[0;36mSession.send\u001b[1;34m(self, request, **kwargs)\u001b[0m\n\u001b[0;32m    642\u001b[0m start \u001b[38;5;241m=\u001b[39m preferred_clock()\n\u001b[0;32m    644\u001b[0m \u001b[38;5;66;03m# Send the request\u001b[39;00m\n\u001b[1;32m--> 645\u001b[0m r \u001b[38;5;241m=\u001b[39m adapter\u001b[38;5;241m.\u001b[39msend(request, \u001b[38;5;241m*\u001b[39m\u001b[38;5;241m*\u001b[39mkwargs)\n\u001b[0;32m    647\u001b[0m \u001b[38;5;66;03m# Total elapsed time of the request (approximately)\u001b[39;00m\n\u001b[0;32m    648\u001b[0m elapsed \u001b[38;5;241m=\u001b[39m preferred_clock() \u001b[38;5;241m-\u001b[39m start\n",
      "File \u001b[1;32m~\\Anaconda3\\lib\\site-packages\\requests\\adapters.py:440\u001b[0m, in \u001b[0;36mHTTPAdapter.send\u001b[1;34m(self, request, stream, timeout, verify, cert, proxies)\u001b[0m\n\u001b[0;32m    438\u001b[0m \u001b[38;5;28;01mtry\u001b[39;00m:\n\u001b[0;32m    439\u001b[0m     \u001b[38;5;28;01mif\u001b[39;00m \u001b[38;5;129;01mnot\u001b[39;00m chunked:\n\u001b[1;32m--> 440\u001b[0m         resp \u001b[38;5;241m=\u001b[39m \u001b[43mconn\u001b[49m\u001b[38;5;241;43m.\u001b[39;49m\u001b[43murlopen\u001b[49m\u001b[43m(\u001b[49m\n\u001b[0;32m    441\u001b[0m \u001b[43m            \u001b[49m\u001b[43mmethod\u001b[49m\u001b[38;5;241;43m=\u001b[39;49m\u001b[43mrequest\u001b[49m\u001b[38;5;241;43m.\u001b[39;49m\u001b[43mmethod\u001b[49m\u001b[43m,\u001b[49m\n\u001b[0;32m    442\u001b[0m \u001b[43m            \u001b[49m\u001b[43murl\u001b[49m\u001b[38;5;241;43m=\u001b[39;49m\u001b[43murl\u001b[49m\u001b[43m,\u001b[49m\n\u001b[0;32m    443\u001b[0m \u001b[43m            \u001b[49m\u001b[43mbody\u001b[49m\u001b[38;5;241;43m=\u001b[39;49m\u001b[43mrequest\u001b[49m\u001b[38;5;241;43m.\u001b[39;49m\u001b[43mbody\u001b[49m\u001b[43m,\u001b[49m\n\u001b[0;32m    444\u001b[0m \u001b[43m            \u001b[49m\u001b[43mheaders\u001b[49m\u001b[38;5;241;43m=\u001b[39;49m\u001b[43mrequest\u001b[49m\u001b[38;5;241;43m.\u001b[39;49m\u001b[43mheaders\u001b[49m\u001b[43m,\u001b[49m\n\u001b[0;32m    445\u001b[0m \u001b[43m            \u001b[49m\u001b[43mredirect\u001b[49m\u001b[38;5;241;43m=\u001b[39;49m\u001b[38;5;28;43;01mFalse\u001b[39;49;00m\u001b[43m,\u001b[49m\n\u001b[0;32m    446\u001b[0m \u001b[43m            \u001b[49m\u001b[43massert_same_host\u001b[49m\u001b[38;5;241;43m=\u001b[39;49m\u001b[38;5;28;43;01mFalse\u001b[39;49;00m\u001b[43m,\u001b[49m\n\u001b[0;32m    447\u001b[0m \u001b[43m            \u001b[49m\u001b[43mpreload_content\u001b[49m\u001b[38;5;241;43m=\u001b[39;49m\u001b[38;5;28;43;01mFalse\u001b[39;49;00m\u001b[43m,\u001b[49m\n\u001b[0;32m    448\u001b[0m \u001b[43m            \u001b[49m\u001b[43mdecode_content\u001b[49m\u001b[38;5;241;43m=\u001b[39;49m\u001b[38;5;28;43;01mFalse\u001b[39;49;00m\u001b[43m,\u001b[49m\n\u001b[0;32m    449\u001b[0m \u001b[43m            \u001b[49m\u001b[43mretries\u001b[49m\u001b[38;5;241;43m=\u001b[39;49m\u001b[38;5;28;43mself\u001b[39;49m\u001b[38;5;241;43m.\u001b[39;49m\u001b[43mmax_retries\u001b[49m\u001b[43m,\u001b[49m\n\u001b[0;32m    450\u001b[0m \u001b[43m            \u001b[49m\u001b[43mtimeout\u001b[49m\u001b[38;5;241;43m=\u001b[39;49m\u001b[43mtimeout\u001b[49m\n\u001b[0;32m    451\u001b[0m \u001b[43m        \u001b[49m\u001b[43m)\u001b[49m\n\u001b[0;32m    453\u001b[0m     \u001b[38;5;66;03m# Send the request.\u001b[39;00m\n\u001b[0;32m    454\u001b[0m     \u001b[38;5;28;01melse\u001b[39;00m:\n\u001b[0;32m    455\u001b[0m         \u001b[38;5;28;01mif\u001b[39;00m \u001b[38;5;28mhasattr\u001b[39m(conn, \u001b[38;5;124m'\u001b[39m\u001b[38;5;124mproxy_pool\u001b[39m\u001b[38;5;124m'\u001b[39m):\n",
      "File \u001b[1;32m~\\Anaconda3\\lib\\site-packages\\urllib3\\connectionpool.py:703\u001b[0m, in \u001b[0;36mHTTPConnectionPool.urlopen\u001b[1;34m(self, method, url, body, headers, retries, redirect, assert_same_host, timeout, pool_timeout, release_conn, chunked, body_pos, **response_kw)\u001b[0m\n\u001b[0;32m    700\u001b[0m     \u001b[38;5;28mself\u001b[39m\u001b[38;5;241m.\u001b[39m_prepare_proxy(conn)\n\u001b[0;32m    702\u001b[0m \u001b[38;5;66;03m# Make the request on the httplib connection object.\u001b[39;00m\n\u001b[1;32m--> 703\u001b[0m httplib_response \u001b[38;5;241m=\u001b[39m \u001b[38;5;28;43mself\u001b[39;49m\u001b[38;5;241;43m.\u001b[39;49m\u001b[43m_make_request\u001b[49m\u001b[43m(\u001b[49m\n\u001b[0;32m    704\u001b[0m \u001b[43m    \u001b[49m\u001b[43mconn\u001b[49m\u001b[43m,\u001b[49m\n\u001b[0;32m    705\u001b[0m \u001b[43m    \u001b[49m\u001b[43mmethod\u001b[49m\u001b[43m,\u001b[49m\n\u001b[0;32m    706\u001b[0m \u001b[43m    \u001b[49m\u001b[43murl\u001b[49m\u001b[43m,\u001b[49m\n\u001b[0;32m    707\u001b[0m \u001b[43m    \u001b[49m\u001b[43mtimeout\u001b[49m\u001b[38;5;241;43m=\u001b[39;49m\u001b[43mtimeout_obj\u001b[49m\u001b[43m,\u001b[49m\n\u001b[0;32m    708\u001b[0m \u001b[43m    \u001b[49m\u001b[43mbody\u001b[49m\u001b[38;5;241;43m=\u001b[39;49m\u001b[43mbody\u001b[49m\u001b[43m,\u001b[49m\n\u001b[0;32m    709\u001b[0m \u001b[43m    \u001b[49m\u001b[43mheaders\u001b[49m\u001b[38;5;241;43m=\u001b[39;49m\u001b[43mheaders\u001b[49m\u001b[43m,\u001b[49m\n\u001b[0;32m    710\u001b[0m \u001b[43m    \u001b[49m\u001b[43mchunked\u001b[49m\u001b[38;5;241;43m=\u001b[39;49m\u001b[43mchunked\u001b[49m\u001b[43m,\u001b[49m\n\u001b[0;32m    711\u001b[0m \u001b[43m\u001b[49m\u001b[43m)\u001b[49m\n\u001b[0;32m    713\u001b[0m \u001b[38;5;66;03m# If we're going to release the connection in ``finally:``, then\u001b[39;00m\n\u001b[0;32m    714\u001b[0m \u001b[38;5;66;03m# the response doesn't need to know about the connection. Otherwise\u001b[39;00m\n\u001b[0;32m    715\u001b[0m \u001b[38;5;66;03m# it will also try to release it and we'll have a double-release\u001b[39;00m\n\u001b[0;32m    716\u001b[0m \u001b[38;5;66;03m# mess.\u001b[39;00m\n\u001b[0;32m    717\u001b[0m response_conn \u001b[38;5;241m=\u001b[39m conn \u001b[38;5;28;01mif\u001b[39;00m \u001b[38;5;129;01mnot\u001b[39;00m release_conn \u001b[38;5;28;01melse\u001b[39;00m \u001b[38;5;28;01mNone\u001b[39;00m\n",
      "File \u001b[1;32m~\\Anaconda3\\lib\\site-packages\\urllib3\\connectionpool.py:449\u001b[0m, in \u001b[0;36mHTTPConnectionPool._make_request\u001b[1;34m(self, conn, method, url, timeout, chunked, **httplib_request_kw)\u001b[0m\n\u001b[0;32m    444\u001b[0m             httplib_response \u001b[38;5;241m=\u001b[39m conn\u001b[38;5;241m.\u001b[39mgetresponse()\n\u001b[0;32m    445\u001b[0m         \u001b[38;5;28;01mexcept\u001b[39;00m \u001b[38;5;167;01mBaseException\u001b[39;00m \u001b[38;5;28;01mas\u001b[39;00m e:\n\u001b[0;32m    446\u001b[0m             \u001b[38;5;66;03m# Remove the TypeError from the exception chain in\u001b[39;00m\n\u001b[0;32m    447\u001b[0m             \u001b[38;5;66;03m# Python 3 (including for exceptions like SystemExit).\u001b[39;00m\n\u001b[0;32m    448\u001b[0m             \u001b[38;5;66;03m# Otherwise it looks like a bug in the code.\u001b[39;00m\n\u001b[1;32m--> 449\u001b[0m             \u001b[43msix\u001b[49m\u001b[38;5;241;43m.\u001b[39;49m\u001b[43mraise_from\u001b[49m\u001b[43m(\u001b[49m\u001b[43me\u001b[49m\u001b[43m,\u001b[49m\u001b[43m \u001b[49m\u001b[38;5;28;43;01mNone\u001b[39;49;00m\u001b[43m)\u001b[49m\n\u001b[0;32m    450\u001b[0m \u001b[38;5;28;01mexcept\u001b[39;00m (SocketTimeout, BaseSSLError, SocketError) \u001b[38;5;28;01mas\u001b[39;00m e:\n\u001b[0;32m    451\u001b[0m     \u001b[38;5;28mself\u001b[39m\u001b[38;5;241m.\u001b[39m_raise_timeout(err\u001b[38;5;241m=\u001b[39me, url\u001b[38;5;241m=\u001b[39murl, timeout_value\u001b[38;5;241m=\u001b[39mread_timeout)\n",
      "File \u001b[1;32m<string>:3\u001b[0m, in \u001b[0;36mraise_from\u001b[1;34m(value, from_value)\u001b[0m\n",
      "File \u001b[1;32m~\\Anaconda3\\lib\\site-packages\\urllib3\\connectionpool.py:444\u001b[0m, in \u001b[0;36mHTTPConnectionPool._make_request\u001b[1;34m(self, conn, method, url, timeout, chunked, **httplib_request_kw)\u001b[0m\n\u001b[0;32m    441\u001b[0m \u001b[38;5;28;01mexcept\u001b[39;00m \u001b[38;5;167;01mTypeError\u001b[39;00m:\n\u001b[0;32m    442\u001b[0m     \u001b[38;5;66;03m# Python 3\u001b[39;00m\n\u001b[0;32m    443\u001b[0m     \u001b[38;5;28;01mtry\u001b[39;00m:\n\u001b[1;32m--> 444\u001b[0m         httplib_response \u001b[38;5;241m=\u001b[39m \u001b[43mconn\u001b[49m\u001b[38;5;241;43m.\u001b[39;49m\u001b[43mgetresponse\u001b[49m\u001b[43m(\u001b[49m\u001b[43m)\u001b[49m\n\u001b[0;32m    445\u001b[0m     \u001b[38;5;28;01mexcept\u001b[39;00m \u001b[38;5;167;01mBaseException\u001b[39;00m \u001b[38;5;28;01mas\u001b[39;00m e:\n\u001b[0;32m    446\u001b[0m         \u001b[38;5;66;03m# Remove the TypeError from the exception chain in\u001b[39;00m\n\u001b[0;32m    447\u001b[0m         \u001b[38;5;66;03m# Python 3 (including for exceptions like SystemExit).\u001b[39;00m\n\u001b[0;32m    448\u001b[0m         \u001b[38;5;66;03m# Otherwise it looks like a bug in the code.\u001b[39;00m\n\u001b[0;32m    449\u001b[0m         six\u001b[38;5;241m.\u001b[39mraise_from(e, \u001b[38;5;28;01mNone\u001b[39;00m)\n",
      "File \u001b[1;32m~\\Anaconda3\\lib\\http\\client.py:1377\u001b[0m, in \u001b[0;36mHTTPConnection.getresponse\u001b[1;34m(self)\u001b[0m\n\u001b[0;32m   1375\u001b[0m \u001b[38;5;28;01mtry\u001b[39;00m:\n\u001b[0;32m   1376\u001b[0m     \u001b[38;5;28;01mtry\u001b[39;00m:\n\u001b[1;32m-> 1377\u001b[0m         \u001b[43mresponse\u001b[49m\u001b[38;5;241;43m.\u001b[39;49m\u001b[43mbegin\u001b[49m\u001b[43m(\u001b[49m\u001b[43m)\u001b[49m\n\u001b[0;32m   1378\u001b[0m     \u001b[38;5;28;01mexcept\u001b[39;00m \u001b[38;5;167;01mConnectionError\u001b[39;00m:\n\u001b[0;32m   1379\u001b[0m         \u001b[38;5;28mself\u001b[39m\u001b[38;5;241m.\u001b[39mclose()\n",
      "File \u001b[1;32m~\\Anaconda3\\lib\\http\\client.py:320\u001b[0m, in \u001b[0;36mHTTPResponse.begin\u001b[1;34m(self)\u001b[0m\n\u001b[0;32m    318\u001b[0m \u001b[38;5;66;03m# read until we get a non-100 response\u001b[39;00m\n\u001b[0;32m    319\u001b[0m \u001b[38;5;28;01mwhile\u001b[39;00m \u001b[38;5;28;01mTrue\u001b[39;00m:\n\u001b[1;32m--> 320\u001b[0m     version, status, reason \u001b[38;5;241m=\u001b[39m \u001b[38;5;28;43mself\u001b[39;49m\u001b[38;5;241;43m.\u001b[39;49m\u001b[43m_read_status\u001b[49m\u001b[43m(\u001b[49m\u001b[43m)\u001b[49m\n\u001b[0;32m    321\u001b[0m     \u001b[38;5;28;01mif\u001b[39;00m status \u001b[38;5;241m!=\u001b[39m CONTINUE:\n\u001b[0;32m    322\u001b[0m         \u001b[38;5;28;01mbreak\u001b[39;00m\n",
      "File \u001b[1;32m~\\Anaconda3\\lib\\http\\client.py:281\u001b[0m, in \u001b[0;36mHTTPResponse._read_status\u001b[1;34m(self)\u001b[0m\n\u001b[0;32m    280\u001b[0m \u001b[38;5;28;01mdef\u001b[39;00m \u001b[38;5;21m_read_status\u001b[39m(\u001b[38;5;28mself\u001b[39m):\n\u001b[1;32m--> 281\u001b[0m     line \u001b[38;5;241m=\u001b[39m \u001b[38;5;28mstr\u001b[39m(\u001b[38;5;28;43mself\u001b[39;49m\u001b[38;5;241;43m.\u001b[39;49m\u001b[43mfp\u001b[49m\u001b[38;5;241;43m.\u001b[39;49m\u001b[43mreadline\u001b[49m\u001b[43m(\u001b[49m\u001b[43m_MAXLINE\u001b[49m\u001b[43m \u001b[49m\u001b[38;5;241;43m+\u001b[39;49m\u001b[43m \u001b[49m\u001b[38;5;241;43m1\u001b[39;49m\u001b[43m)\u001b[49m, \u001b[38;5;124m\"\u001b[39m\u001b[38;5;124miso-8859-1\u001b[39m\u001b[38;5;124m\"\u001b[39m)\n\u001b[0;32m    282\u001b[0m     \u001b[38;5;28;01mif\u001b[39;00m \u001b[38;5;28mlen\u001b[39m(line) \u001b[38;5;241m>\u001b[39m _MAXLINE:\n\u001b[0;32m    283\u001b[0m         \u001b[38;5;28;01mraise\u001b[39;00m LineTooLong(\u001b[38;5;124m\"\u001b[39m\u001b[38;5;124mstatus line\u001b[39m\u001b[38;5;124m\"\u001b[39m)\n",
      "File \u001b[1;32m~\\Anaconda3\\lib\\socket.py:704\u001b[0m, in \u001b[0;36mSocketIO.readinto\u001b[1;34m(self, b)\u001b[0m\n\u001b[0;32m    702\u001b[0m \u001b[38;5;28;01mwhile\u001b[39;00m \u001b[38;5;28;01mTrue\u001b[39;00m:\n\u001b[0;32m    703\u001b[0m     \u001b[38;5;28;01mtry\u001b[39;00m:\n\u001b[1;32m--> 704\u001b[0m         \u001b[38;5;28;01mreturn\u001b[39;00m \u001b[38;5;28;43mself\u001b[39;49m\u001b[38;5;241;43m.\u001b[39;49m\u001b[43m_sock\u001b[49m\u001b[38;5;241;43m.\u001b[39;49m\u001b[43mrecv_into\u001b[49m\u001b[43m(\u001b[49m\u001b[43mb\u001b[49m\u001b[43m)\u001b[49m\n\u001b[0;32m    705\u001b[0m     \u001b[38;5;28;01mexcept\u001b[39;00m timeout:\n\u001b[0;32m    706\u001b[0m         \u001b[38;5;28mself\u001b[39m\u001b[38;5;241m.\u001b[39m_timeout_occurred \u001b[38;5;241m=\u001b[39m \u001b[38;5;28;01mTrue\u001b[39;00m\n",
      "File \u001b[1;32m~\\Anaconda3\\lib\\ssl.py:1241\u001b[0m, in \u001b[0;36mSSLSocket.recv_into\u001b[1;34m(self, buffer, nbytes, flags)\u001b[0m\n\u001b[0;32m   1237\u001b[0m     \u001b[38;5;28;01mif\u001b[39;00m flags \u001b[38;5;241m!=\u001b[39m \u001b[38;5;241m0\u001b[39m:\n\u001b[0;32m   1238\u001b[0m         \u001b[38;5;28;01mraise\u001b[39;00m \u001b[38;5;167;01mValueError\u001b[39;00m(\n\u001b[0;32m   1239\u001b[0m           \u001b[38;5;124m\"\u001b[39m\u001b[38;5;124mnon-zero flags not allowed in calls to recv_into() on \u001b[39m\u001b[38;5;132;01m%s\u001b[39;00m\u001b[38;5;124m\"\u001b[39m \u001b[38;5;241m%\u001b[39m\n\u001b[0;32m   1240\u001b[0m           \u001b[38;5;28mself\u001b[39m\u001b[38;5;241m.\u001b[39m\u001b[38;5;18m__class__\u001b[39m)\n\u001b[1;32m-> 1241\u001b[0m     \u001b[38;5;28;01mreturn\u001b[39;00m \u001b[38;5;28;43mself\u001b[39;49m\u001b[38;5;241;43m.\u001b[39;49m\u001b[43mread\u001b[49m\u001b[43m(\u001b[49m\u001b[43mnbytes\u001b[49m\u001b[43m,\u001b[49m\u001b[43m \u001b[49m\u001b[43mbuffer\u001b[49m\u001b[43m)\u001b[49m\n\u001b[0;32m   1242\u001b[0m \u001b[38;5;28;01melse\u001b[39;00m:\n\u001b[0;32m   1243\u001b[0m     \u001b[38;5;28;01mreturn\u001b[39;00m \u001b[38;5;28msuper\u001b[39m()\u001b[38;5;241m.\u001b[39mrecv_into(buffer, nbytes, flags)\n",
      "File \u001b[1;32m~\\Anaconda3\\lib\\ssl.py:1099\u001b[0m, in \u001b[0;36mSSLSocket.read\u001b[1;34m(self, len, buffer)\u001b[0m\n\u001b[0;32m   1097\u001b[0m \u001b[38;5;28;01mtry\u001b[39;00m:\n\u001b[0;32m   1098\u001b[0m     \u001b[38;5;28;01mif\u001b[39;00m buffer \u001b[38;5;129;01mis\u001b[39;00m \u001b[38;5;129;01mnot\u001b[39;00m \u001b[38;5;28;01mNone\u001b[39;00m:\n\u001b[1;32m-> 1099\u001b[0m         \u001b[38;5;28;01mreturn\u001b[39;00m \u001b[38;5;28;43mself\u001b[39;49m\u001b[38;5;241;43m.\u001b[39;49m\u001b[43m_sslobj\u001b[49m\u001b[38;5;241;43m.\u001b[39;49m\u001b[43mread\u001b[49m\u001b[43m(\u001b[49m\u001b[38;5;28;43mlen\u001b[39;49m\u001b[43m,\u001b[49m\u001b[43m \u001b[49m\u001b[43mbuffer\u001b[49m\u001b[43m)\u001b[49m\n\u001b[0;32m   1100\u001b[0m     \u001b[38;5;28;01melse\u001b[39;00m:\n\u001b[0;32m   1101\u001b[0m         \u001b[38;5;28;01mreturn\u001b[39;00m \u001b[38;5;28mself\u001b[39m\u001b[38;5;241m.\u001b[39m_sslobj\u001b[38;5;241m.\u001b[39mread(\u001b[38;5;28mlen\u001b[39m)\n",
      "\u001b[1;31mKeyboardInterrupt\u001b[0m: "
     ]
    }
   ],
   "source": [
    "res_data = Collect_ids('Data')"
   ]
  },
  {
   "cell_type": "code",
   "execution_count": 19,
   "id": "81a6168c",
   "metadata": {},
   "outputs": [
    {
     "data": {
      "text/plain": [
       "82"
      ]
     },
     "execution_count": 19,
     "metadata": {},
     "output_type": "execute_result"
    }
   ],
   "source": [
    "len(res_data)"
   ]
  },
  {
   "cell_type": "code",
   "execution_count": 58,
   "id": "2849812b",
   "metadata": {},
   "outputs": [],
   "source": [
    "with open('ids_data_2.pickle', 'wb') as f:\n",
    "    pickle.dump(res_data, f)"
   ]
  },
  {
   "cell_type": "code",
   "execution_count": 65,
   "id": "286c8e24",
   "metadata": {},
   "outputs": [],
   "source": [
    "res_engineer = Collect_ids('Engineer')"
   ]
  },
  {
   "cell_type": "code",
   "execution_count": 67,
   "id": "50680088",
   "metadata": {},
   "outputs": [
    {
     "data": {
      "text/plain": [
       "4901"
      ]
     },
     "execution_count": 67,
     "metadata": {},
     "output_type": "execute_result"
    }
   ],
   "source": [
    "len(res_engineer)"
   ]
  },
  {
   "cell_type": "code",
   "execution_count": 68,
   "id": "b86a6609",
   "metadata": {},
   "outputs": [],
   "source": [
    "with open('ids_eng.pickle', 'wb') as f:\n",
    "    pickle.dump(res_engineer, f)"
   ]
  },
  {
   "cell_type": "code",
   "execution_count": 33,
   "id": "d36b45bd",
   "metadata": {},
   "outputs": [],
   "source": [
    "res_cpp = Collect_ids('C++')"
   ]
  },
  {
   "cell_type": "code",
   "execution_count": 35,
   "id": "3fa64def",
   "metadata": {},
   "outputs": [
    {
     "data": {
      "text/plain": [
       "1065"
      ]
     },
     "execution_count": 35,
     "metadata": {},
     "output_type": "execute_result"
    }
   ],
   "source": [
    "len(res_cpp)"
   ]
  },
  {
   "cell_type": "code",
   "execution_count": 59,
   "id": "ab041ee4",
   "metadata": {},
   "outputs": [],
   "source": [
    "with open('ids_cpp.pickle', 'wb') as f:\n",
    "    pickle.dump(res_cpp, f)"
   ]
  },
  {
   "cell_type": "code",
   "execution_count": 47,
   "id": "e38a8771",
   "metadata": {},
   "outputs": [],
   "source": [
    "res_back = Collect_ids('Backend')"
   ]
  },
  {
   "cell_type": "code",
   "execution_count": 49,
   "id": "687a6707",
   "metadata": {},
   "outputs": [
    {
     "data": {
      "text/plain": [
       "273"
      ]
     },
     "execution_count": 49,
     "metadata": {},
     "output_type": "execute_result"
    }
   ],
   "source": [
    "len(res_back)"
   ]
  },
  {
   "cell_type": "code",
   "execution_count": 60,
   "id": "ebfc2e20",
   "metadata": {},
   "outputs": [],
   "source": [
    "with open('ids_back.pickle', 'wb') as f:\n",
    "    pickle.dump(res_back, f)"
   ]
  },
  {
   "cell_type": "code",
   "execution_count": 51,
   "id": "238d7db2",
   "metadata": {},
   "outputs": [],
   "source": [
    "res_front = Collect_ids('Frontend')"
   ]
  },
  {
   "cell_type": "code",
   "execution_count": 53,
   "id": "6dc711e5",
   "metadata": {},
   "outputs": [
    {
     "data": {
      "text/plain": [
       "327"
      ]
     },
     "execution_count": 53,
     "metadata": {},
     "output_type": "execute_result"
    }
   ],
   "source": [
    "len(res_front)"
   ]
  },
  {
   "cell_type": "code",
   "execution_count": 61,
   "id": "350618ae",
   "metadata": {},
   "outputs": [],
   "source": [
    "with open('ids_front.pickle', 'wb') as f:\n",
    "    pickle.dump(res_front, f)"
   ]
  },
  {
   "cell_type": "code",
   "execution_count": 55,
   "id": "49175aca",
   "metadata": {},
   "outputs": [],
   "source": [
    "res_front = Collect_ids('Programmer')"
   ]
  },
  {
   "cell_type": "code",
   "execution_count": 56,
   "id": "d41a5af4",
   "metadata": {},
   "outputs": [
    {
     "data": {
      "text/plain": [
       "5456"
      ]
     },
     "execution_count": 56,
     "metadata": {},
     "output_type": "execute_result"
    }
   ],
   "source": [
    "len(res_front)"
   ]
  },
  {
   "cell_type": "code",
   "execution_count": 62,
   "id": "7e41543d",
   "metadata": {},
   "outputs": [],
   "source": [
    "with open('ids_progr.pickle', 'wb') as f:\n",
    "    pickle.dump(res_front, f)"
   ]
  },
  {
   "cell_type": "markdown",
   "id": "e9eb158c",
   "metadata": {},
   "source": [
    "## Continue"
   ]
  },
  {
   "cell_type": "code",
   "execution_count": 2,
   "id": "e0d21562",
   "metadata": {},
   "outputs": [],
   "source": [
    "with open('ids_all.pickle', 'rb') as f:\n",
    "    ids_all = pickle.load(f)\n",
    "    \n",
    "with open('ids_progr.pickle', 'rb') as f:\n",
    "    ids_progr = pickle.load(f) \n",
    "    \n",
    "with open('ids_front.pickle', 'rb') as f:\n",
    "    ids_front = pickle.load(f)  \n",
    "\n",
    "with open('ids_back.pickle', 'rb') as f:\n",
    "    ids_back = pickle.load(f)  \n",
    "    \n",
    "with open('ids_cpp.pickle', 'rb') as f:\n",
    "    ids_cpp = pickle.load(f)\n",
    "\n",
    "with open('ids_data_2.pickle', 'rb') as f:\n",
    "    ids_data = pickle.load(f)  \n",
    "\n",
    "with open('ids_eng.pickle', 'rb') as f:\n",
    "    ids_eng = pickle.load(f)"
   ]
  },
  {
   "cell_type": "code",
   "execution_count": 3,
   "id": "b69e9939",
   "metadata": {},
   "outputs": [],
   "source": [
    "ids = ids_all.union(ids_progr, ids_front, ids_back, ids_cpp, ids_data, ids_eng)"
   ]
  },
  {
   "cell_type": "code",
   "execution_count": 4,
   "id": "a8cfb5e4",
   "metadata": {},
   "outputs": [],
   "source": [
    "ids_list = np.array(list(ids))"
   ]
  },
  {
   "cell_type": "code",
   "execution_count": 5,
   "id": "52c88ba8",
   "metadata": {},
   "outputs": [],
   "source": [
    "parts = np.array_split(ids_list, 60)"
   ]
  },
  {
   "cell_type": "code",
   "execution_count": 23,
   "id": "38430954",
   "metadata": {},
   "outputs": [],
   "source": [
    "def collect_info(idx, d):\n",
    "    resp = requests.get(fr'https://api.hh.ru/vacancies/{idx}')\n",
    "    \n",
    "    if resp.status_code != 200:\n",
    "        return\n",
    "    \n",
    "    json_obj = resp.json()\n",
    "    \n",
    "    d['premium'].append(json_obj.get('premium', 'N/A'))\n",
    "    d['name'].append(json_obj.get('name', 'N/A')) \n",
    "    d['response_letter_required'].append(json_obj.get('response_letter_required', 'N/A'))\n",
    "    adress = json_obj.get('address', 'N/A')\n",
    "    \n",
    "    if type(adress) is dict:\n",
    "        d['city'].append(adress.get('city', 'N/A'))\n",
    "        d['latitude'].append(adress.get('lat', 'N/A'))\n",
    "        d['longtitude'].append(adress.get('lng', 'N/A'))\n",
    "        d['raw'].append(adress.get('raw', 'N/A'))\n",
    "    else:\n",
    "        d['city'].append('N/A')\n",
    "        d['latitude'].append('N/A')\n",
    "        d['longtitude'].append('N/A')\n",
    "        d['raw'].append('N/A')\n",
    "        \n",
    "    experience = json_obj.get('experience', 'N/A')\n",
    "    if type(experience) is dict:\n",
    "        d['experience'].append(experience.get('name', 'N/A'))\n",
    "    else:\n",
    "        d['experience'].append(experience)\n",
    "        \n",
    "    schedule = json_obj.get('schedule', 'N/A')\n",
    "    if type(schedule) is dict:\n",
    "        d['schedule'].append(schedule.get('name', 'N/A'))\n",
    "    else:\n",
    "        d['schedule'].append(schedule)\n",
    "    \n",
    "    employment = json_obj.get('employment', 'N/A')\n",
    "    if type(employment) is dict:\n",
    "        d['employment'].append(employment.get('name', 'N/A'))\n",
    "    else:\n",
    "        d['employment'].append(employment)\n",
    "        \n",
    "    key_skills = json_obj.get('key_skills', 'N/A')\n",
    "    if type(key_skills) is list:\n",
    "        skills = [skill['name'] for skill in key_skills]\n",
    "        d['skills'].append('_'.join(skills))\n",
    "    else:\n",
    "        d['skills'].append(key_skills)\n",
    "        \n",
    "    d['has_test'].append(json_obj.get('has_test', 'N/A')) \n",
    "    \n",
    "    employer = json_obj.get('employer', 'N/A')\n",
    "    if type(employer) is dict:\n",
    "        d['employer'].append(employer['name'])\n",
    "    else:\n",
    "        d['employer'].append(employer)\n",
    "        \n",
    "    salary = json_obj.get('salary', 'N/A')\n",
    "    if type(salary) is dict:\n",
    "        d['salary_from'].append(salary.get('from', 'N/A'))\n",
    "        d['salary_to'].append(salary.get('to', 'N/A'))\n",
    "        d['gross'].append(salary.get('gross', 'N/A'))\n",
    "        d['currency'].append(salary.get('currency', 'N/A'))\n",
    "    else:\n",
    "        d['salary_from'].append('N/A')\n",
    "        d['salary_to'].append('N/A')\n",
    "        d['gross'].append('N/A')\n",
    "        d['currency'].append('N/A')"
   ]
  },
  {
   "cell_type": "code",
   "execution_count": 24,
   "id": "c10a2978",
   "metadata": {},
   "outputs": [],
   "source": [
    "def create_vac_data(ids_vac):\n",
    "    import pandas as pd\n",
    "    from collections import defaultdict\n",
    "    from tqdm import tqdm\n",
    "    \n",
    "    d = defaultdict(list)\n",
    "    for idx in tqdm(ids_vac):\n",
    "        collect_info(idx, d)\n",
    "    \n",
    "    df = pd.DataFrame(d)\n",
    "    return df "
   ]
  },
  {
   "cell_type": "code",
   "execution_count": 25,
   "id": "663b9ccc",
   "metadata": {},
   "outputs": [
    {
     "data": {
      "text/plain": [
       "60"
      ]
     },
     "execution_count": 25,
     "metadata": {},
     "output_type": "execute_result"
    }
   ],
   "source": [
    "len(parts)"
   ]
  },
  {
   "cell_type": "code",
   "execution_count": 179,
   "id": "548bb6d1",
   "metadata": {
    "scrolled": false
   },
   "outputs": [],
   "source": [
    "for (i, part) in enumerate(parts):\n",
    "    \n",
    "    if os.path.isfile(f'data_{i}.csv'):\n",
    "        continue\n",
    "    \n",
    "    df_new = create_vac_data(part)\n",
    "    if df_new.shape[0] < 500:\n",
    "        break\n",
    "    else:\n",
    "        df_new.to_csv(f'data_{i}.csv', index=False, encoding='utf-8', sep='\\t')\n",
    "        print(f'Data part number {i} saved!')"
   ]
  },
  {
   "cell_type": "code",
   "execution_count": 2,
   "id": "87d5b036",
   "metadata": {},
   "outputs": [],
   "source": [
    "def check_dims():\n",
    "    import os\n",
    "    import pandas as pd\n",
    "    \n",
    "    df_list = []\n",
    "    cwd = os.getcwd()\n",
    "    for file in os.listdir(cwd):\n",
    "        if file.endswith(\".csv\"):\n",
    "            try: \n",
    "                df = pd.read_csv(os.path.join(cwd, file), sep='\\t')\n",
    "                df_list.append(df)\n",
    "                print(f'File {file} contains {df.shape[0]} rows!')\n",
    "            except:\n",
    "                print(f'File {file} contains 0 rows')\n",
    "                \n",
    "    return pd.concat(df_list)"
   ]
  },
  {
   "cell_type": "code",
   "execution_count": 3,
   "id": "df0bdb25",
   "metadata": {},
   "outputs": [
    {
     "name": "stdout",
     "output_type": "stream",
     "text": [
      "File data_0.csv contains 514 rows!\n",
      "File data_1.csv contains 512 rows!\n",
      "File data_10.csv contains 514 rows!\n",
      "File data_11.csv contains 513 rows!\n",
      "File data_12.csv contains 513 rows!\n",
      "File data_13.csv contains 512 rows!\n",
      "File data_14.csv contains 514 rows!\n",
      "File data_15.csv contains 513 rows!\n",
      "File data_16.csv contains 512 rows!\n",
      "File data_17.csv contains 513 rows!\n",
      "File data_18.csv contains 514 rows!\n",
      "File data_19.csv contains 514 rows!\n",
      "File data_2.csv contains 513 rows!\n",
      "File data_20.csv contains 511 rows!\n",
      "File data_21.csv contains 512 rows!\n",
      "File data_22.csv contains 510 rows!\n",
      "File data_23.csv contains 512 rows!\n",
      "File data_24.csv contains 513 rows!\n",
      "File data_25.csv contains 511 rows!\n",
      "File data_26.csv contains 512 rows!\n",
      "File data_27.csv contains 512 rows!\n",
      "File data_28.csv contains 511 rows!\n",
      "File data_29.csv contains 513 rows!\n",
      "File data_3.csv contains 514 rows!\n",
      "File data_30.csv contains 509 rows!\n",
      "File data_31.csv contains 511 rows!\n",
      "File data_32.csv contains 513 rows!\n",
      "File data_33.csv contains 512 rows!\n",
      "File data_34.csv contains 510 rows!\n",
      "File data_35.csv contains 511 rows!\n",
      "File data_36.csv contains 513 rows!\n",
      "File data_37.csv contains 513 rows!\n",
      "File data_38.csv contains 512 rows!\n",
      "File data_39.csv contains 512 rows!\n",
      "File data_4.csv contains 513 rows!\n",
      "File data_40.csv contains 512 rows!\n",
      "File data_41.csv contains 511 rows!\n",
      "File data_42.csv contains 511 rows!\n",
      "File data_43.csv contains 513 rows!\n",
      "File data_44.csv contains 513 rows!\n",
      "File data_45.csv contains 509 rows!\n",
      "File data_46.csv contains 513 rows!\n",
      "File data_47.csv contains 512 rows!\n",
      "File data_48.csv contains 513 rows!\n",
      "File data_49.csv contains 511 rows!\n",
      "File data_5.csv contains 513 rows!\n",
      "File data_50.csv contains 513 rows!\n",
      "File data_51.csv contains 511 rows!\n",
      "File data_52.csv contains 510 rows!\n",
      "File data_53.csv contains 513 rows!\n",
      "File data_54.csv contains 513 rows!\n",
      "File data_55.csv contains 513 rows!\n",
      "File data_56.csv contains 512 rows!\n",
      "File data_57.csv contains 511 rows!\n",
      "File data_58.csv contains 513 rows!\n",
      "File data_59.csv contains 512 rows!\n",
      "File data_6.csv contains 514 rows!\n",
      "File data_7.csv contains 513 rows!\n",
      "File data_8.csv contains 513 rows!\n",
      "File data_9.csv contains 513 rows!\n"
     ]
    }
   ],
   "source": [
    "df = check_dims()"
   ]
  },
  {
   "cell_type": "code",
   "execution_count": 5,
   "id": "6d4f0893",
   "metadata": {},
   "outputs": [
    {
     "data": {
      "text/html": [
       "<div>\n",
       "<style scoped>\n",
       "    .dataframe tbody tr th:only-of-type {\n",
       "        vertical-align: middle;\n",
       "    }\n",
       "\n",
       "    .dataframe tbody tr th {\n",
       "        vertical-align: top;\n",
       "    }\n",
       "\n",
       "    .dataframe thead th {\n",
       "        text-align: right;\n",
       "    }\n",
       "</style>\n",
       "<table border=\"1\" class=\"dataframe\">\n",
       "  <thead>\n",
       "    <tr style=\"text-align: right;\">\n",
       "      <th></th>\n",
       "      <th>premium</th>\n",
       "      <th>name</th>\n",
       "      <th>response_letter_required</th>\n",
       "      <th>city</th>\n",
       "      <th>latitude</th>\n",
       "      <th>longtitude</th>\n",
       "      <th>raw</th>\n",
       "      <th>experience</th>\n",
       "      <th>schedule</th>\n",
       "      <th>employment</th>\n",
       "      <th>skills</th>\n",
       "      <th>has_test</th>\n",
       "      <th>employer</th>\n",
       "      <th>salary_from</th>\n",
       "      <th>salary_to</th>\n",
       "      <th>gross</th>\n",
       "      <th>currency</th>\n",
       "    </tr>\n",
       "  </thead>\n",
       "  <tbody>\n",
       "    <tr>\n",
       "      <th>0</th>\n",
       "      <td>False</td>\n",
       "      <td>Консультант входящей линии \"Сети гипермаркетов...</td>\n",
       "      <td>False</td>\n",
       "      <td>Ижевск</td>\n",
       "      <td>56.840557</td>\n",
       "      <td>53.202489</td>\n",
       "      <td>Ижевск, Красная улица, 105</td>\n",
       "      <td>Нет опыта</td>\n",
       "      <td>Полный день</td>\n",
       "      <td>Полная занятость</td>\n",
       "      <td>Деловая переписка_Грамотная речь_входящие звон...</td>\n",
       "      <td>False</td>\n",
       "      <td>Фронтлайн</td>\n",
       "      <td>NaN</td>\n",
       "      <td>32000.0</td>\n",
       "      <td>True</td>\n",
       "      <td>RUR</td>\n",
       "    </tr>\n",
       "    <tr>\n",
       "      <th>1</th>\n",
       "      <td>False</td>\n",
       "      <td>Менеджер-аналитик маркетплейсов</td>\n",
       "      <td>False</td>\n",
       "      <td>NaN</td>\n",
       "      <td>NaN</td>\n",
       "      <td>NaN</td>\n",
       "      <td>NaN</td>\n",
       "      <td>Нет опыта</td>\n",
       "      <td>Полный день</td>\n",
       "      <td>Полная занятость</td>\n",
       "      <td>Ведение переговоров_Поиск информации в интерне...</td>\n",
       "      <td>False</td>\n",
       "      <td>Бузенков Евгений Игоревич</td>\n",
       "      <td>50000.0</td>\n",
       "      <td>150000.0</td>\n",
       "      <td>False</td>\n",
       "      <td>RUR</td>\n",
       "    </tr>\n",
       "    <tr>\n",
       "      <th>2</th>\n",
       "      <td>False</td>\n",
       "      <td>Аналитик</td>\n",
       "      <td>False</td>\n",
       "      <td>Нижний Новгород</td>\n",
       "      <td>56.325759</td>\n",
       "      <td>44.015742</td>\n",
       "      <td>Нижний Новгород, улица Нестерова, 9</td>\n",
       "      <td>От 1 года до 3 лет</td>\n",
       "      <td>Полный день</td>\n",
       "      <td>Полная занятость</td>\n",
       "      <td>Работа в команде_Работа с большим объемом инфо...</td>\n",
       "      <td>False</td>\n",
       "      <td>АНО Областное кадровое агентство</td>\n",
       "      <td>40000.0</td>\n",
       "      <td>NaN</td>\n",
       "      <td>False</td>\n",
       "      <td>RUR</td>\n",
       "    </tr>\n",
       "    <tr>\n",
       "      <th>3</th>\n",
       "      <td>False</td>\n",
       "      <td>Системный администратор</td>\n",
       "      <td>False</td>\n",
       "      <td>Ростов-на-Дону</td>\n",
       "      <td>47.269060</td>\n",
       "      <td>39.759832</td>\n",
       "      <td>Ростов-на-Дону, улица 50-летия Ростсельмаша, 1/52</td>\n",
       "      <td>От 1 года до 3 лет</td>\n",
       "      <td>Полный день</td>\n",
       "      <td>Полная занятость</td>\n",
       "      <td>Asterisk_Linux_Администрирование серверов Linu...</td>\n",
       "      <td>False</td>\n",
       "      <td>Группа Компаний ЖелДорЭкспедиция</td>\n",
       "      <td>43000.0</td>\n",
       "      <td>NaN</td>\n",
       "      <td>False</td>\n",
       "      <td>RUR</td>\n",
       "    </tr>\n",
       "    <tr>\n",
       "      <th>4</th>\n",
       "      <td>False</td>\n",
       "      <td>Инженер - программист 1С</td>\n",
       "      <td>False</td>\n",
       "      <td>Омск</td>\n",
       "      <td>55.071494</td>\n",
       "      <td>73.296086</td>\n",
       "      <td>Омск, проспект Губкина, 30</td>\n",
       "      <td>От 1 года до 3 лет</td>\n",
       "      <td>Полный день</td>\n",
       "      <td>Полная занятость</td>\n",
       "      <td>NaN</td>\n",
       "      <td>False</td>\n",
       "      <td>Омский каучук</td>\n",
       "      <td>60000.0</td>\n",
       "      <td>80000.0</td>\n",
       "      <td>False</td>\n",
       "      <td>RUR</td>\n",
       "    </tr>\n",
       "    <tr>\n",
       "      <th>...</th>\n",
       "      <td>...</td>\n",
       "      <td>...</td>\n",
       "      <td>...</td>\n",
       "      <td>...</td>\n",
       "      <td>...</td>\n",
       "      <td>...</td>\n",
       "      <td>...</td>\n",
       "      <td>...</td>\n",
       "      <td>...</td>\n",
       "      <td>...</td>\n",
       "      <td>...</td>\n",
       "      <td>...</td>\n",
       "      <td>...</td>\n",
       "      <td>...</td>\n",
       "      <td>...</td>\n",
       "      <td>...</td>\n",
       "      <td>...</td>\n",
       "    </tr>\n",
       "    <tr>\n",
       "      <th>508</th>\n",
       "      <td>False</td>\n",
       "      <td>Начальник отдела развития инфраструктуры прогр...</td>\n",
       "      <td>False</td>\n",
       "      <td>NaN</td>\n",
       "      <td>NaN</td>\n",
       "      <td>NaN</td>\n",
       "      <td>NaN</td>\n",
       "      <td>От 1 года до 3 лет</td>\n",
       "      <td>Полный день</td>\n",
       "      <td>Полная занятость</td>\n",
       "      <td>1C: Предприятие_Высшее образование_Работа в ко...</td>\n",
       "      <td>False</td>\n",
       "      <td>Зеленая долина, ГК</td>\n",
       "      <td>150000.0</td>\n",
       "      <td>150000.0</td>\n",
       "      <td>True</td>\n",
       "      <td>RUR</td>\n",
       "    </tr>\n",
       "    <tr>\n",
       "      <th>509</th>\n",
       "      <td>False</td>\n",
       "      <td>Токарь</td>\n",
       "      <td>False</td>\n",
       "      <td>Рязань</td>\n",
       "      <td>54.536298</td>\n",
       "      <td>39.778209</td>\n",
       "      <td>Рязань, Дружная, 18</td>\n",
       "      <td>От 1 года до 3 лет</td>\n",
       "      <td>Полный день</td>\n",
       "      <td>Полная занятость</td>\n",
       "      <td>Умение читать чертежи</td>\n",
       "      <td>False</td>\n",
       "      <td>КРЗ, Многотраслевая производственная компания</td>\n",
       "      <td>45000.0</td>\n",
       "      <td>NaN</td>\n",
       "      <td>False</td>\n",
       "      <td>RUR</td>\n",
       "    </tr>\n",
       "    <tr>\n",
       "      <th>510</th>\n",
       "      <td>False</td>\n",
       "      <td>Сервисный инженер систем кондиционирования</td>\n",
       "      <td>False</td>\n",
       "      <td>NaN</td>\n",
       "      <td>NaN</td>\n",
       "      <td>NaN</td>\n",
       "      <td>NaN</td>\n",
       "      <td>Более 6 лет</td>\n",
       "      <td>Полный день</td>\n",
       "      <td>Полная занятость</td>\n",
       "      <td>Выездное обслуживание_Техническое обслуживание...</td>\n",
       "      <td>False</td>\n",
       "      <td>АСЦ-Климат</td>\n",
       "      <td>120000.0</td>\n",
       "      <td>160000.0</td>\n",
       "      <td>False</td>\n",
       "      <td>RUR</td>\n",
       "    </tr>\n",
       "    <tr>\n",
       "      <th>511</th>\n",
       "      <td>False</td>\n",
       "      <td>Системный администратор</td>\n",
       "      <td>False</td>\n",
       "      <td>NaN</td>\n",
       "      <td>NaN</td>\n",
       "      <td>NaN</td>\n",
       "      <td>NaN</td>\n",
       "      <td>От 3 до 6 лет</td>\n",
       "      <td>Полный день</td>\n",
       "      <td>Полная занятость</td>\n",
       "      <td>Администрирование сайтов_Настройка сетевых под...</td>\n",
       "      <td>False</td>\n",
       "      <td>Панацея</td>\n",
       "      <td>40000.0</td>\n",
       "      <td>NaN</td>\n",
       "      <td>False</td>\n",
       "      <td>RUR</td>\n",
       "    </tr>\n",
       "    <tr>\n",
       "      <th>512</th>\n",
       "      <td>False</td>\n",
       "      <td>Junior-QA-Engineer/Специалист ручного тестиров...</td>\n",
       "      <td>False</td>\n",
       "      <td>Челябинск</td>\n",
       "      <td>55.181251</td>\n",
       "      <td>61.353029</td>\n",
       "      <td>Челябинск, улица Чайковского, 165</td>\n",
       "      <td>Нет опыта</td>\n",
       "      <td>Полный день</td>\n",
       "      <td>Полная занятость</td>\n",
       "      <td>Грамотность_Грамотная речь_Adobe Photoshop_Cor...</td>\n",
       "      <td>False</td>\n",
       "      <td>ПрограмЛаб</td>\n",
       "      <td>30000.0</td>\n",
       "      <td>NaN</td>\n",
       "      <td>False</td>\n",
       "      <td>RUR</td>\n",
       "    </tr>\n",
       "  </tbody>\n",
       "</table>\n",
       "<p>30736 rows × 17 columns</p>\n",
       "</div>"
      ],
      "text/plain": [
       "     premium                                               name  \\\n",
       "0      False  Консультант входящей линии \"Сети гипермаркетов...   \n",
       "1      False                    Менеджер-аналитик маркетплейсов   \n",
       "2      False                                           Аналитик   \n",
       "3      False                            Системный администратор   \n",
       "4      False                           Инженер - программист 1С   \n",
       "..       ...                                                ...   \n",
       "508    False  Начальник отдела развития инфраструктуры прогр...   \n",
       "509    False                                             Токарь   \n",
       "510    False         Сервисный инженер систем кондиционирования   \n",
       "511    False                            Системный администратор   \n",
       "512    False  Junior-QA-Engineer/Специалист ручного тестиров...   \n",
       "\n",
       "     response_letter_required             city   latitude  longtitude  \\\n",
       "0                       False           Ижевск  56.840557   53.202489   \n",
       "1                       False              NaN        NaN         NaN   \n",
       "2                       False  Нижний Новгород  56.325759   44.015742   \n",
       "3                       False   Ростов-на-Дону  47.269060   39.759832   \n",
       "4                       False             Омск  55.071494   73.296086   \n",
       "..                        ...              ...        ...         ...   \n",
       "508                     False              NaN        NaN         NaN   \n",
       "509                     False           Рязань  54.536298   39.778209   \n",
       "510                     False              NaN        NaN         NaN   \n",
       "511                     False              NaN        NaN         NaN   \n",
       "512                     False        Челябинск  55.181251   61.353029   \n",
       "\n",
       "                                                   raw          experience  \\\n",
       "0                           Ижевск, Красная улица, 105           Нет опыта   \n",
       "1                                                  NaN           Нет опыта   \n",
       "2                  Нижний Новгород, улица Нестерова, 9  От 1 года до 3 лет   \n",
       "3    Ростов-на-Дону, улица 50-летия Ростсельмаша, 1/52  От 1 года до 3 лет   \n",
       "4                           Омск, проспект Губкина, 30  От 1 года до 3 лет   \n",
       "..                                                 ...                 ...   \n",
       "508                                                NaN  От 1 года до 3 лет   \n",
       "509                                Рязань, Дружная, 18  От 1 года до 3 лет   \n",
       "510                                                NaN         Более 6 лет   \n",
       "511                                                NaN       От 3 до 6 лет   \n",
       "512                  Челябинск, улица Чайковского, 165           Нет опыта   \n",
       "\n",
       "        schedule        employment  \\\n",
       "0    Полный день  Полная занятость   \n",
       "1    Полный день  Полная занятость   \n",
       "2    Полный день  Полная занятость   \n",
       "3    Полный день  Полная занятость   \n",
       "4    Полный день  Полная занятость   \n",
       "..           ...               ...   \n",
       "508  Полный день  Полная занятость   \n",
       "509  Полный день  Полная занятость   \n",
       "510  Полный день  Полная занятость   \n",
       "511  Полный день  Полная занятость   \n",
       "512  Полный день  Полная занятость   \n",
       "\n",
       "                                                skills  has_test  \\\n",
       "0    Деловая переписка_Грамотная речь_входящие звон...     False   \n",
       "1    Ведение переговоров_Поиск информации в интерне...     False   \n",
       "2    Работа в команде_Работа с большим объемом инфо...     False   \n",
       "3    Asterisk_Linux_Администрирование серверов Linu...     False   \n",
       "4                                                  NaN     False   \n",
       "..                                                 ...       ...   \n",
       "508  1C: Предприятие_Высшее образование_Работа в ко...     False   \n",
       "509                              Умение читать чертежи     False   \n",
       "510  Выездное обслуживание_Техническое обслуживание...     False   \n",
       "511  Администрирование сайтов_Настройка сетевых под...     False   \n",
       "512  Грамотность_Грамотная речь_Adobe Photoshop_Cor...     False   \n",
       "\n",
       "                                          employer  salary_from  salary_to  \\\n",
       "0                                        Фронтлайн          NaN    32000.0   \n",
       "1                        Бузенков Евгений Игоревич      50000.0   150000.0   \n",
       "2                 АНО Областное кадровое агентство      40000.0        NaN   \n",
       "3                 Группа Компаний ЖелДорЭкспедиция      43000.0        NaN   \n",
       "4                                    Омский каучук      60000.0    80000.0   \n",
       "..                                             ...          ...        ...   \n",
       "508                             Зеленая долина, ГК     150000.0   150000.0   \n",
       "509  КРЗ, Многотраслевая производственная компания      45000.0        NaN   \n",
       "510                                     АСЦ-Климат     120000.0   160000.0   \n",
       "511                                        Панацея      40000.0        NaN   \n",
       "512                                     ПрограмЛаб      30000.0        NaN   \n",
       "\n",
       "     gross currency  \n",
       "0     True      RUR  \n",
       "1    False      RUR  \n",
       "2    False      RUR  \n",
       "3    False      RUR  \n",
       "4    False      RUR  \n",
       "..     ...      ...  \n",
       "508   True      RUR  \n",
       "509  False      RUR  \n",
       "510  False      RUR  \n",
       "511  False      RUR  \n",
       "512  False      RUR  \n",
       "\n",
       "[30736 rows x 17 columns]"
      ]
     },
     "execution_count": 5,
     "metadata": {},
     "output_type": "execute_result"
    }
   ],
   "source": [
    "df"
   ]
  },
  {
   "cell_type": "code",
   "execution_count": 192,
   "id": "e4fef485",
   "metadata": {},
   "outputs": [],
   "source": [
    "df.to_csv('Final_data.csv', index = False)"
   ]
  }
 ],
 "metadata": {
  "kernelspec": {
   "display_name": "Python 3 (ipykernel)",
   "language": "python",
   "name": "python3"
  },
  "language_info": {
   "codemirror_mode": {
    "name": "ipython",
    "version": 3
   },
   "file_extension": ".py",
   "mimetype": "text/x-python",
   "name": "python",
   "nbconvert_exporter": "python",
   "pygments_lexer": "ipython3",
   "version": "3.9.12"
  }
 },
 "nbformat": 4,
 "nbformat_minor": 5
}
